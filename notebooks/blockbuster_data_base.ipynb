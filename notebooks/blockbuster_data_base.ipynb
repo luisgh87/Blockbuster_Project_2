{
 "cells": [
  {
   "cell_type": "code",
   "execution_count": null,
   "metadata": {},
   "outputs": [],
   "source": [
    "# Crear una base de datos de SQL con Python\n",
    "\n",
    "\n",
    "%pip install mysql-connector-python\n",
    "\n",
    "\n",
    "\n",
    "\n"
   ]
  },
  {
   "cell_type": "code",
   "execution_count": 1,
   "metadata": {},
   "outputs": [
    {
     "data": {
      "text/plain": [
       "<mysql.connector.cursor_cext.CMySQLCursor at 0x1f6a49d95d0>"
      ]
     },
     "execution_count": 1,
     "metadata": {},
     "output_type": "execute_result"
    }
   ],
   "source": [
    "# Importar librerias\n",
    "\n",
    "import mysql.connector as conn\n",
    "\n",
    "# Crear la conexion\n",
    "\n",
    "conexion = conn.connect(host='localhost',user='root',passwd='password')\n",
    "\n",
    "cursor = conexion.cursor()\n",
    "\n",
    "cursor\n",
    "\n",
    "\n",
    "\n",
    "\n"
   ]
  },
  {
   "cell_type": "code",
   "execution_count": 2,
   "metadata": {},
   "outputs": [],
   "source": [
    "# crear una base de datos \"blockbuster\" si no existe\n",
    "\n",
    "cursor.execute('CREATE DATABASE IF NOT EXISTS blockbuster')\n",
    "\n",
    "# Mostrar las bases de datos\n",
    "\n",
    "cursor.execute('SHOW DATABASES')\n"
   ]
  },
  {
   "cell_type": "code",
   "execution_count": 3,
   "metadata": {},
   "outputs": [],
   "source": [
    "# Conectar a la base de datos \"blockbuster\"\n",
    "\n",
    "conexion1 = conn.connect(host='localhost',user='root',passwd='password',database='blockbuster')\n",
    "\n",
    "cursor1 = conexion1.cursor()\n",
    "\n",
    "c = cursor1.execute"
   ]
  },
  {
   "cell_type": "code",
   "execution_count": 18,
   "metadata": {},
   "outputs": [],
   "source": [
    "# Crear la tabla \"actor\" si no existe\n",
    "\n",
    "c('CREATE TABLE IF NOT EXISTS actor (actor_id INT AUTO_INCREMENT PRIMARY KEY, first_name VARCHAR(255), last_name VARCHAR(255), last_update TIMESTAMP DEFAULT CURRENT_TIMESTAMP ON UPDATE CURRENT_TIMESTAMP)')"
   ]
  },
  {
   "cell_type": "code",
   "execution_count": 17,
   "metadata": {},
   "outputs": [],
   "source": [
    "\n",
    "# Eliminar la tabla \"actor\" si existe\n",
    "\n",
    "c('DROP TABLE IF EXISTS actor')"
   ]
  },
  {
   "cell_type": "code",
   "execution_count": 20,
   "metadata": {},
   "outputs": [],
   "source": [
    "import pandas as pd\n",
    "\n",
    "actor = pd.read_csv(\"C:/Users/luiso/IRONHACK/Blockbuster_Project_2/data/actor_clean.csv\")\n",
    "\n",
    "for index, row in actor.iterrows():\n",
    "    actor_id = row['actor_id']\n",
    "    first_name = row['first_name']\n",
    "    last_name = row['last_name']\n",
    "    last_update = row['last_update']\n",
    "\n",
    "    # Consulta SQL para insertar un actor en la tabla \"actor\"\n",
    "    consulta = f\"INSERT INTO actor (actor_id, first_name, last_name, last_update) VALUES ({actor_id}, '{first_name}', '{last_name}', '{last_update}')\"\n",
    "\n",
    "    # Ejecutar la consulta\n",
    "    c(consulta)\n",
    "\n",
    "\n",
    "# Hacer commit para guardar los cambios en la base de datos\n",
    "conexion1.commit()\n"
   ]
  },
  {
   "cell_type": "code",
   "execution_count": 21,
   "metadata": {},
   "outputs": [],
   "source": [
    "# Crear la tabla \"customer\" si no existe\n",
    "\n",
    "c('CREATE TABLE IF NOT EXISTS customer (customer_id INT AUTO_INCREMENT PRIMARY KEY, first_name VARCHAR(255), last_name VARCHAR(255))')"
   ]
  },
  {
   "cell_type": "code",
   "execution_count": 16,
   "metadata": {},
   "outputs": [],
   "source": [
    "# Eliminar la tabla \"customer\" si existe\n",
    "\n",
    "c('DROP TABLE IF EXISTS customer')"
   ]
  },
  {
   "cell_type": "code",
   "execution_count": 22,
   "metadata": {},
   "outputs": [],
   "source": [
    "customer = pd.read_csv(\"C:/Users/luiso/IRONHACK/Blockbuster_Project_2/data/customer.csv\")\n",
    "\n",
    "for index, row in customer.iterrows():\n",
    "    customer_id = row['customer_id']\n",
    "    first_name = row['first_name']\n",
    "    last_name = row['last_name']\n",
    "   \n",
    "\n",
    "    # Consulta SQL para insertar un actor en la tabla \"actor\"\n",
    "    consulta = f\"INSERT INTO customer (customer_id, first_name, last_name) VALUES ({customer_id}, '{first_name}', '{last_name}')\"\n",
    "\n",
    "    # Ejecutar la consulta\n",
    "    c(consulta)\n",
    "\n",
    "\n",
    "# Hacer commit para guardar los cambios en la base de datos\n",
    "conexion1.commit()\n"
   ]
  },
  {
   "cell_type": "code",
   "execution_count": 23,
   "metadata": {},
   "outputs": [],
   "source": [
    "# Crear la tabla \"language\" si no existe\n",
    "\n",
    "c('CREATE TABLE IF NOT EXISTS language (language_id INT AUTO_INCREMENT PRIMARY KEY, language VARCHAR(255), last_update TIMESTAMP DEFAULT CURRENT_TIMESTAMP ON UPDATE CURRENT_TIMESTAMP)')"
   ]
  },
  {
   "cell_type": "code",
   "execution_count": 15,
   "metadata": {},
   "outputs": [],
   "source": [
    "# Eliminar la tabla \"language\" si existe\n",
    "\n",
    "c('DROP TABLE IF EXISTS language')"
   ]
  },
  {
   "cell_type": "code",
   "execution_count": 24,
   "metadata": {},
   "outputs": [],
   "source": [
    "language = pd.read_csv(\"C:/Users/luiso/IRONHACK/Blockbuster_Project_2/data/language_clean.csv\")\n",
    "\n",
    "for index, row in language.iterrows():\n",
    "    language_id = row['language_id']\n",
    "    language = row['language']\n",
    "    last_update = row['last_update']\n",
    "   \n",
    "\n",
    "    # Consulta SQL para insertar un actor en la tabla \"actor\"\n",
    "    consulta = f\"INSERT INTO language (language_id, language, last_update) VALUES ({language_id}, '{language}', '{last_update}')\"\n",
    "\n",
    "    # Ejecutar la consulta\n",
    "    c(consulta)\n",
    "\n",
    "\n",
    "# Hacer commit para guardar los cambios en la base de datos\n",
    "conexion1.commit()"
   ]
  },
  {
   "cell_type": "code",
   "execution_count": 25,
   "metadata": {},
   "outputs": [],
   "source": [
    "# Crear la tabla \"category\" si no existe\n",
    "\n",
    "c('CREATE TABLE IF NOT EXISTS category (category_id INT AUTO_INCREMENT PRIMARY KEY, gender VARCHAR(255), last_update TIMESTAMP DEFAULT CURRENT_TIMESTAMP ON UPDATE CURRENT_TIMESTAMP)')"
   ]
  },
  {
   "cell_type": "code",
   "execution_count": 14,
   "metadata": {},
   "outputs": [],
   "source": [
    "# Eliminar la tabla \"category\" si existe\n",
    "\n",
    "c('DROP TABLE IF EXISTS category')"
   ]
  },
  {
   "cell_type": "code",
   "execution_count": 26,
   "metadata": {},
   "outputs": [],
   "source": [
    "category = pd.read_csv(\"C:/Users/luiso/IRONHACK/Blockbuster_Project_2/data/category_clean.csv\")\n",
    "\n",
    "for index, row in category.iterrows():\n",
    "    category_id = row['category_id']\n",
    "    gender = row['gender']\n",
    "    last_update = row['last_update']\n",
    "   \n",
    "\n",
    "    # Consulta SQL para insertar un actor en la tabla \"actor\"\n",
    "    consulta = f\"INSERT INTO category (category_id, gender, last_update) VALUES ({category_id}, '{gender}', '{last_update}')\"\n",
    "\n",
    "    # Ejecutar la consulta\n",
    "    c(consulta)\n",
    "\n",
    "\n",
    "# Hacer commit para guardar los cambios en la base de datos\n",
    "conexion1.commit()"
   ]
  },
  {
   "cell_type": "code",
   "execution_count": 27,
   "metadata": {},
   "outputs": [],
   "source": [
    "# Crear la tabla \"film\" si no existe y crear foreign key para la tabla \"language\"\n",
    "\n",
    "c('CREATE TABLE IF NOT EXISTS film (film_id INT AUTO_INCREMENT PRIMARY KEY, title VARCHAR(255), description TEXT, release_year YEAR, language_id INT, rental_duration INT, rental_rate FLOAT, length INT, replacement_cost FLOAT, rating VARCHAR(255), last_update TIMESTAMP DEFAULT CURRENT_TIMESTAMP ON UPDATE CURRENT_TIMESTAMP, behind_the_scenes VARCHAR(255), commentaries VARCHAR(255), deleted_scenes VARCHAR(255), FOREIGN KEY (language_id) REFERENCES language(language_id))')"
   ]
  },
  {
   "cell_type": "code",
   "execution_count": 13,
   "metadata": {},
   "outputs": [],
   "source": [
    "# Eliminar la tabla \"film\" si existe\n",
    "\n",
    "c('DROP TABLE IF EXISTS film')"
   ]
  },
  {
   "cell_type": "code",
   "execution_count": 28,
   "metadata": {},
   "outputs": [],
   "source": [
    "film = pd.read_csv(\"C:/Users/luiso/IRONHACK/Blockbuster_Project_2/data/film_clean.csv\")\n",
    "\n",
    "for index, row in film.iterrows():\n",
    "    film_id = row['film_id']\n",
    "    title = row['title']\n",
    "    description = row['description']\n",
    "    release_year = row['release_year']\n",
    "    language_id = row['language_id']\n",
    "    rental_duration = row['rental_duration']\n",
    "    rental_rate = row['rental_rate']\n",
    "    length = row['length']\n",
    "    replacement_cost = row['replacement_cost']\n",
    "    rating = row['rating']\n",
    "    last_update = row['last_update']\n",
    "    behind_the_scenes = row['behind_the_scenes']\n",
    "    commentaries = row['commentaries']\n",
    "    deleted_scenes = row['deleted_scenes']\n",
    "\n",
    "   \n",
    "\n",
    "    # Consulta SQL para insertar un actor en la tabla \"actor\"\n",
    "    consulta = f\"INSERT INTO film (film_id, title, description, release_year, language_id, rental_duration, rental_rate, length, replacement_cost, rating, last_update, behind_the_scenes, commentaries, deleted_scenes) VALUES ({film_id}, '{title}', '{description}', {release_year}, {language_id}, {rental_duration}, {rental_rate}, {length}, {replacement_cost}, '{rating}', '{last_update}', '{behind_the_scenes}', '{commentaries}', '{deleted_scenes}')\"\n",
    "\n",
    "    # Ejecutar la consulta\n",
    "    c(consulta)\n",
    "\n",
    "\n",
    "\n",
    "# Hacer commit para guardar los cambios en la base de datos\n",
    "conexion1.commit()"
   ]
  },
  {
   "cell_type": "code",
   "execution_count": 29,
   "metadata": {},
   "outputs": [],
   "source": [
    "# Crear la tabla \"old_HDD\" si no existe y crear foreign key para la tabla \"category\" y \"actor\"\n",
    "\n",
    "c(\"CREATE TABLE IF NOT EXISTS old_HDD (old_hdd_id INT AUTO_INCREMENT PRIMARY KEY, first_name VARCHAR(255), last_name VARCHAR(255), title VARCHAR(255), release_year YEAR, category_id INT, actor_id INT, FOREIGN KEY (category_id) REFERENCES category(category_id), FOREIGN KEY (actor_id) REFERENCES actor(actor_id))\")\n"
   ]
  },
  {
   "cell_type": "code",
   "execution_count": 9,
   "metadata": {},
   "outputs": [],
   "source": [
    "# Eliminar la tabla \"old_HDD\" si existe\n",
    "\n",
    "c('DROP TABLE IF EXISTS old_HDD')"
   ]
  },
  {
   "cell_type": "code",
   "execution_count": 30,
   "metadata": {},
   "outputs": [],
   "source": [
    "# Insertar datos en la tabla \"old_HDD\"\n",
    "\n",
    "old_HDD = pd.read_csv(\"C:/Users/luiso/IRONHACK/Blockbuster_Project_2/data/old_HDD_clean.csv\")\n",
    "\n",
    "for index, row in old_HDD.iterrows():\n",
    "    old_hdd_id = row['old_hdd_id']\n",
    "    first_name = row['first_name']\n",
    "    last_name = row['last_name']\n",
    "    title = row['title']\n",
    "    release_year = row['release_year']\n",
    "    category_id = row['category_id']\n",
    "    actor_id = row['actor_id']\n",
    "   \n",
    "\n",
    "    # Consulta SQL para insertar un actor en la tabla \"actor\"\n",
    "    consulta = f\"INSERT INTO old_HDD (old_hdd_id, first_name, last_name, title, release_year, category_id, actor_id) VALUES ({old_hdd_id}, '{first_name}', '{last_name}', '{title}', {release_year}, {category_id}, {actor_id})\"\n",
    "\n",
    "    # Ejecutar la consulta\n",
    "    c(consulta)\n",
    "\n",
    "# Hacer commit para guardar los cambios en la base de datos\n",
    "conexion1.commit()"
   ]
  },
  {
   "cell_type": "code",
   "execution_count": 31,
   "metadata": {},
   "outputs": [],
   "source": [
    "# Crear la tabla \"inventory\" si no existe y crear foreign key para la tabla \"film\"\n",
    "\n",
    "c(\"CREATE TABLE IF NOT EXISTS inventory (inventory_id INT AUTO_INCREMENT PRIMARY KEY, film_id INT, store_id INT, last_update TIMESTAMP DEFAULT CURRENT_TIMESTAMP ON UPDATE CURRENT_TIMESTAMP, FOREIGN KEY (film_id) REFERENCES film(film_id))\")\n",
    "\n"
   ]
  },
  {
   "cell_type": "code",
   "execution_count": 12,
   "metadata": {},
   "outputs": [],
   "source": [
    "# Eloiminar la tabla \"inventory\" si existe\n",
    "\n",
    "c('DROP TABLE IF EXISTS inventory')"
   ]
  },
  {
   "cell_type": "code",
   "execution_count": 32,
   "metadata": {},
   "outputs": [],
   "source": [
    "# Insertar datos en la tabla \"inventory\"\n",
    "\n",
    "inventory = pd.read_csv(\"C:/Users/luiso/IRONHACK/Blockbuster_Project_2/data/inventory_clean.csv\")\n",
    "\n",
    "for index, row in inventory.iterrows():\n",
    "    inventory_id = row['inventory_id']\n",
    "    film_id = row['film_id']\n",
    "    store_id = row['store_id']\n",
    "    last_update = row['last_update']\n",
    "   \n",
    "\n",
    "    # Consulta SQL para insertar un actor en la tabla \"actor\"\n",
    "    consulta = f\"INSERT INTO inventory (inventory_id, film_id, store_id, last_update) VALUES ({inventory_id}, {film_id}, {store_id}, '{last_update}')\"\n",
    "\n",
    "    # Ejecutar la consulta\n",
    "    c(consulta)\n",
    "\n",
    "# Hacer commit para guardar los cambios en la base de datos\n",
    "\n",
    "conexion1.commit()"
   ]
  },
  {
   "cell_type": "code",
   "execution_count": 33,
   "metadata": {},
   "outputs": [],
   "source": [
    "# Crear la tabla \"rental\" si no existe y crear foreign key para la tabla \"inventory\" y \"customer\"\n",
    "\n",
    "c(\"CREATE TABLE IF NOT EXISTS rental (rental_id INT AUTO_INCREMENT PRIMARY KEY, rental_date TIMESTAMP DEFAULT CURRENT_TIMESTAMP, inventory_id INT, customer_id INT, return_date TIMESTAMP DEFAULT CURRENT_TIMESTAMP, staff_id INT, last_update TIMESTAMP DEFAULT CURRENT_TIMESTAMP ON UPDATE CURRENT_TIMESTAMP, FOREIGN KEY (inventory_id) REFERENCES inventory(inventory_id), FOREIGN KEY (customer_id) REFERENCES customer(customer_id))\")"
   ]
  },
  {
   "cell_type": "code",
   "execution_count": 11,
   "metadata": {},
   "outputs": [],
   "source": [
    "# Eliminar la tabla \"rental\" si existe\n",
    "\n",
    "c('DROP TABLE IF EXISTS rental')"
   ]
  },
  {
   "cell_type": "code",
   "execution_count": 34,
   "metadata": {},
   "outputs": [],
   "source": [
    "# Insertar datos en la tabla \"rental\"\n",
    "\n",
    "rental = pd.read_csv(\"C:/Users/luiso/IRONHACK/Blockbuster_Project_2/data/rental_clean.csv\")\n",
    "\n",
    "for index, row in rental.iterrows():\n",
    "    rental_id = row['rental_id']\n",
    "    rental_date = row['rental_date']\n",
    "    inventory_id = row['inventory_id']\n",
    "    customer_id = row['customer_id']\n",
    "    return_date = row['return_date']\n",
    "    staff_id = row['staff_id']\n",
    "    last_update = row['last_update']\n",
    "   \n",
    "\n",
    "    # Consulta SQL para insertar un actor en la tabla \"actor\"\n",
    "    consulta = f\"INSERT INTO rental (rental_id, rental_date, inventory_id, customer_id, return_date, staff_id, last_update) VALUES ({rental_id}, '{rental_date}', {inventory_id}, {customer_id}, '{return_date}', {staff_id}, '{last_update}')\"\n",
    "\n",
    "    # Ejecutar la consulta\n",
    "    c(consulta)\n",
    "\n",
    "# Hacer commit para guardar los cambios en la base de datos\n",
    "\n",
    "conexion1.commit()"
   ]
  }
 ],
 "metadata": {
  "kernelspec": {
   "display_name": "base",
   "language": "python",
   "name": "python3"
  },
  "language_info": {
   "codemirror_mode": {
    "name": "ipython",
    "version": 3
   },
   "file_extension": ".py",
   "mimetype": "text/x-python",
   "name": "python",
   "nbconvert_exporter": "python",
   "pygments_lexer": "ipython3",
   "version": "3.10.9"
  }
 },
 "nbformat": 4,
 "nbformat_minor": 2
}
