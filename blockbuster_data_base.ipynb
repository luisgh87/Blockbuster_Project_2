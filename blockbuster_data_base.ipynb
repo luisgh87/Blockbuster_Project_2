{
 "cells": [
  {
   "cell_type": "code",
   "execution_count": 14,
   "metadata": {},
   "outputs": [
    {
     "name": "stdout",
     "output_type": "stream",
     "text": [
      "Requirement already satisfied: mysql-connector-python in c:\\users\\luiso\\anaconda3\\lib\\site-packages (8.2.0)Note: you may need to restart the kernel to use updated packages.\n",
      "\n",
      "Requirement already satisfied: protobuf<=4.21.12,>=4.21.1 in c:\\users\\luiso\\anaconda3\\lib\\site-packages (from mysql-connector-python) (4.21.12)\n"
     ]
    }
   ],
   "source": [
    "# Crear una base de datos de SQL con Python\n",
    "\n",
    "\n",
    "%pip install mysql-connector-python\n",
    "\n",
    "\n",
    "\n",
    "\n"
   ]
  },
  {
   "cell_type": "code",
   "execution_count": 2,
   "metadata": {},
   "outputs": [
    {
     "data": {
      "text/plain": [
       "<mysql.connector.cursor_cext.CMySQLCursor at 0x1ee818b9d20>"
      ]
     },
     "execution_count": 2,
     "metadata": {},
     "output_type": "execute_result"
    }
   ],
   "source": [
    "# Importar librerias\n",
    "\n",
    "import mysql.connector as conn\n",
    "\n",
    "# Crear la conexion\n",
    "\n",
    "conexion = conn.connect(host='localhost',user='root',passwd='password')\n",
    "\n",
    "cursor = conexion.cursor()\n",
    "\n",
    "cursor\n",
    "\n",
    "\n",
    "\n",
    "\n"
   ]
  },
  {
   "cell_type": "code",
   "execution_count": 3,
   "metadata": {},
   "outputs": [],
   "source": [
    "# crear una base de datos \"blockbuster\" si no existe\n",
    "\n",
    "cursor.execute('CREATE DATABASE IF NOT EXISTS blockbuster')\n",
    "\n",
    "# Mostrar las bases de datos\n",
    "\n",
    "cursor.execute('SHOW DATABASES')\n"
   ]
  },
  {
   "cell_type": "code",
   "execution_count": 4,
   "metadata": {},
   "outputs": [],
   "source": [
    "# Conectar a la base de datos \"blockbuster\"\n",
    "\n",
    "conexion1 = conn.connect(host='localhost',user='root',passwd='password',database='blockbuster')\n",
    "\n",
    "cursor1 = conexion1.cursor()\n",
    "\n",
    "c = cursor1.execute"
   ]
  },
  {
   "cell_type": "code",
   "execution_count": 12,
   "metadata": {},
   "outputs": [],
   "source": [
    "# Crear la tabla \"customer\" si no existe\n",
    "\n",
    "c('CREATE TABLE IF NOT EXISTS customer (customer_id INT AUTO_INCREMENT PRIMARY KEY, first_name VARCHAR(255), last_name VARCHAR(255))')\n",
    "\n",
    "# Crear la tabla \"actor\" si no existe\n",
    "\n",
    "c('CREATE TABLE IF NOT EXISTS actor (actor_id INT AUTO_INCREMENT PRIMARY KEY, first_name VARCHAR(255), last_name VARCHAR(255), last_update TIMESTAMP DEFAULT CURRENT_TIMESTAMP ON UPDATE CURRENT_TIMESTAMP)')\n",
    "\n",
    "# Crear la tabla \"category\" si no existe\n",
    "\n",
    "c('CREATE TABLE IF NOT EXISTS category (category_id INT AUTO_INCREMENT PRIMARY KEY, gender VARCHAR(255), last_update TIMESTAMP DEFAULT CURRENT_TIMESTAMP ON UPDATE CURRENT_TIMESTAMP)')\n",
    "\n",
    "# Crear la tabla \"language\" si no existe\n",
    "\n",
    "c('CREATE TABLE IF NOT EXISTS language (language_id INT AUTO_INCREMENT PRIMARY KEY, language VARCHAR(255), last_update TIMESTAMP DEFAULT CURRENT_TIMESTAMP ON UPDATE CURRENT_TIMESTAMP)')\n",
    "\n",
    "\n",
    "# Crear la tabla \"film\" si no existe y crear foreign key para la tabla \"language\"\n",
    "\n",
    "c('CREATE TABLE IF NOT EXISTS film (film_id INT AUTO_INCREMENT PRIMARY KEY, title VARCHAR(255), description TEXT, release_year YEAR, language_id INT, rental_duration INT, rental_rate FLOAT, length INT, replacement_cost FLOAT, rating VARCHAR(255), last_update TIMESTAMP DEFAULT CURRENT_TIMESTAMP ON UPDATE CURRENT_TIMESTAMP, behind_the_scenes VARCHAR(255), commentaries VARCHAR(255), deleted_scenes VARCHAR(255), FOREIGN KEY (language_id) REFERENCES language(language_id))')\n",
    "\n",
    "# Crear la tabla \"inventory\" si no existe y crear foreign key para la tabla \"film\"\n",
    "\n",
    "c('CREATE TABLE IF NOT EXISTS inventory (inventory_id INT AUTO_INCREMENT PRIMARY KEY, film_id INT, store_id INT, last_update TIMESTAMP DEFAULT CURRENT_TIMESTAMP ON UPDATE CURRENT_TIMESTAMP, FOREIGN KEY (film_id) REFERENCES film(film_id))')\n",
    "\n",
    "# Crear la tabla \"rental\" si no existe y crear foreign key para la tabla \"inventory\" y \"customer\"\n",
    "\n",
    "c('CREATE TABLE IF NOT EXISTS rental (rental_id INT AUTO_INCREMENT PRIMARY KEY, rental_date DATETIME, inventory_id INT, customer_id INT, return_date DATETIME, staff_id INT, last_update TIMESTAMP DEFAULT CURRENT_TIMESTAMP ON UPDATE CURRENT_TIMESTAMP, FOREIGN KEY (inventory_id) REFERENCES inventory(inventory_id), FOREIGN KEY (customer_id) REFERENCES customer(customer_id))')\n",
    "\n"
   ]
  }
 ],
 "metadata": {
  "kernelspec": {
   "display_name": "base",
   "language": "python",
   "name": "python3"
  },
  "language_info": {
   "codemirror_mode": {
    "name": "ipython",
    "version": 3
   },
   "file_extension": ".py",
   "mimetype": "text/x-python",
   "name": "python",
   "nbconvert_exporter": "python",
   "pygments_lexer": "ipython3",
   "version": "3.10.9"
  }
 },
 "nbformat": 4,
 "nbformat_minor": 2
}
